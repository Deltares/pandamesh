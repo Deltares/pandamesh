{
  "cells": [
    {
      "cell_type": "markdown",
      "metadata": {},
      "source": [
        "\n# Preprocessing\n\nRaw geospatial vector data is often not ready to use directly in mesh\ngeneration:\n    \n* Polygon data often do not form a valid planar partition: polygons are\n  overlapping, or neighboring polygons have small gaps between them.\n* Polygon boundaries or linestring segments intersect each other.\n* Points may be located on polygon boundaries or lines. Since floating point\n  numbers are not exact, points seemingly located on a line are computationally\n  just left or just right of the line and form an extremely thin triangle.\n* Points may be located extremely close together, thereby generating tiny\n  triangles.\n  \nSuch problems either lead to a generated mesh with extremely small elements, or\nworse, they lead to a crash of the meshing program. Pandamesh provides a\n``Preprocessor`` class to assist with cleaning up some common faults. \n\nThis example will illustrate some common problems and how to resolve them.\n"
      ]
    },
    {
      "cell_type": "code",
      "execution_count": null,
      "metadata": {
        "collapsed": false
      },
      "outputs": [],
      "source": [
        "import geopandas as gpd\nimport matplotlib.pyplot as plt\nimport numpy as np\nimport shapely\nimport shapely.geometry as sg\n\nimport pandamesh as pm"
      ]
    },
    {
      "cell_type": "markdown",
      "metadata": {},
      "source": [
        "## Polygons\n\nWhen generating a mesh, we often have a general area which may be meshed\ncoarsely and an area of interest, which should be meshed more finely.\nGenerally, the fine inner zone is located within the coarse outer zone, but\nthis requires a hole in the outer zone that exactly matches up with the\nexterior of the inner zone.\n\n"
      ]
    },
    {
      "cell_type": "code",
      "execution_count": null,
      "metadata": {
        "collapsed": false
      },
      "outputs": [],
      "source": [
        "outer = sg.Polygon(\n    [\n        [0.0, 0.0],\n        [10.0, 0.0],\n        [10.0, 10.0],\n        [0.0, 10.0],\n    ]\n)\ninner = sg.Polygon(\n    [\n        [5.0, 2.0],\n        [8.0, 5.0],\n        [5.0, 8.0],\n        [2.0, 5.0],\n    ]\n)\n\ngdf = gpd.GeoDataFrame(geometry=[outer, inner])\ngdf[\"cellsize\"] = [2.0, 1.0]\n\nfig, (ax0, ax1) = plt.subplots(ncols=2, sharex=True, sharey=True)\ngdf.iloc[[0]].plot(ax=ax0)\ngdf.iloc[[1]].plot(ax=ax1)"
      ]
    },
    {
      "cell_type": "markdown",
      "metadata": {},
      "source": [
        "In this case, we have two conflicting specified cell sizes in the inner\nsquare. We can resolve this as follows:\n\n"
      ]
    },
    {
      "cell_type": "code",
      "execution_count": null,
      "metadata": {
        "collapsed": false
      },
      "outputs": [],
      "source": [
        "resolved = (\n    pm.Preprocessor(geometry=gdf.geometry, values=gdf.cellsize)\n    .unify_polygons()\n    .to_geodataframe()\n).rename(columns={\"values\": \"cellsize\"})"
      ]
    },
    {
      "cell_type": "markdown",
      "metadata": {},
      "source": [
        "Note that the Preprocessor supports method chaining, allowing you to flexibly\nexecute a set of operations.\n\nThe resulting geodataframe's geometries are valid planar partition:\n\n"
      ]
    },
    {
      "cell_type": "code",
      "execution_count": null,
      "metadata": {
        "collapsed": false
      },
      "outputs": [],
      "source": [
        "fig, (ax0, ax1) = plt.subplots(ncols=2, sharex=True, sharey=True)\nresolved.iloc[[0]].plot(ax=ax0)\nresolved.iloc[[1]].plot(ax=ax1)"
      ]
    },
    {
      "cell_type": "markdown",
      "metadata": {},
      "source": [
        "And we can use it directly to generate a mesh:\n\n"
      ]
    },
    {
      "cell_type": "code",
      "execution_count": null,
      "metadata": {
        "collapsed": false
      },
      "outputs": [],
      "source": [
        "vertices, faces = pm.TriangleMesher(resolved).generate()\npm.plot(vertices, faces)"
      ]
    },
    {
      "cell_type": "markdown",
      "metadata": {},
      "source": [
        "Alternatively, multiple polygons with the same cell size specification might\nbe overlapping\n\n"
      ]
    },
    {
      "cell_type": "code",
      "execution_count": null,
      "metadata": {
        "collapsed": false
      },
      "outputs": [],
      "source": [
        "inner0 = shapely.affinity.translate(inner, xoff=-1.0)\ninner1 = shapely.affinity.translate(inner, xoff=1.0)\ngdf = gpd.GeoDataFrame(geometry=[outer, inner0, inner1])\ngdf[\"cellsize\"] = [2.0, 1.0, 1.0]\n\nfig, ax = plt.subplots()\ngdf.plot(ax=ax, facecolor=\"none\")"
      ]
    },
    {
      "cell_type": "markdown",
      "metadata": {},
      "source": [
        "These will also be resolved by ``.unify_polygons``.\n\n"
      ]
    },
    {
      "cell_type": "code",
      "execution_count": null,
      "metadata": {
        "collapsed": false
      },
      "outputs": [],
      "source": [
        "resolved = (\n    pm.Preprocessor(geometry=gdf.geometry, values=gdf.cellsize)\n    .unify_polygons()\n    .to_geodataframe()\n).rename(columns={\"values\": \"cellsize\"})\n\nvertices, faces = pm.TriangleMesher(resolved).generate()\n\nfig, ax = plt.subplots()\npm.plot(vertices, faces, ax=ax)\nresolved.plot(ax=ax, facecolor=\"none\", edgecolor=\"red\")"
      ]
    },
    {
      "cell_type": "markdown",
      "metadata": {},
      "source": [
        "Note, however, that the internal boundaries of the inner polygons are forced\ninto the triangulation. We can rid of these by calling ``.merge_polygons``:\n\n"
      ]
    },
    {
      "cell_type": "code",
      "execution_count": null,
      "metadata": {
        "collapsed": false
      },
      "outputs": [],
      "source": [
        "resolved = (\n    pm.Preprocessor(geometry=gdf.geometry, values=gdf.cellsize)\n    .unify_polygons()\n    .merge_polygons()\n    .to_geodataframe()\n).rename(columns={\"values\": \"cellsize\"})\n\nvertices, faces = pm.TriangleMesher(resolved).generate()\n\nfig, ax = plt.subplots()\npm.plot(vertices, faces, ax=ax)\nresolved.plot(ax=ax, facecolor=\"none\", edgecolor=\"red\")"
      ]
    },
    {
      "cell_type": "markdown",
      "metadata": {},
      "source": [
        "An alternative problem is when polygons are touching, but do not actually\nshare vertices along the boundary.\n\n"
      ]
    },
    {
      "cell_type": "code",
      "execution_count": null,
      "metadata": {
        "collapsed": false
      },
      "outputs": [],
      "source": [
        "first = sg.Polygon(\n    [\n        [0.0, 0.0],\n        [10.0, 0.0],\n        [10.0, 10.0],\n        [0.0, 10.0],\n    ]\n)\nsecond = sg.Polygon(\n    [\n        [10.0, 2.0],\n        [18.0, 2.0],\n        [18.0, 8.0],\n        [10.0, 8.0],\n    ]\n)\n\ngdf = gpd.GeoDataFrame(geometry=[first, second])\ngdf[\"cellsize\"] = [4.0, 2.0]\n\nvertices, faces = pm.GmshMesher(gdf, intersecting_edges=\"warn\").generate(finalize=True)\npm.plot(vertices, faces)"
      ]
    },
    {
      "cell_type": "markdown",
      "metadata": {},
      "source": [
        "At x=10.0, the generated triangles are disconnected.\n\nThis is caused by the the fact that the polygons do not share an edge:\n\n* The polygon on the left has an edge from (10.0, 0.0) to (10.0, 10.0)\n* The polygon on the right has an edge from (10.0, 2.0) to (10.0, 8.0)\n\nIn fact, the vertices of the right polygon are intersecting the (edge) of the\nleft polygon. We can identify these intersections with\n:func:`pandamesh.find_edge_intersections`:\n\n"
      ]
    },
    {
      "cell_type": "code",
      "execution_count": null,
      "metadata": {
        "collapsed": false
      },
      "outputs": [],
      "source": [
        "intersections = pm.find_edge_intersections(gdf.geometry)\n\nfig, ax = plt.subplots()\npm.plot(vertices, faces, ax=ax)\nintersections.plot(ax=ax)"
      ]
    },
    {
      "cell_type": "markdown",
      "metadata": {},
      "source": [
        "Calling ``.unify_polygons()`` ensures that the vertices of touching polygons\nare inserted, such that the polygons share an edge.\n\n"
      ]
    },
    {
      "cell_type": "code",
      "execution_count": null,
      "metadata": {
        "collapsed": false
      },
      "outputs": [],
      "source": [
        "resolved = (\n    pm.Preprocessor(geometry=gdf.geometry, values=gdf.cellsize)\n    .unify_polygons()\n    .to_geodataframe()\n).rename(columns={\"values\": \"cellsize\"})\n\nvertices, faces = pm.TriangleMesher(resolved).generate()\npolygon0_coords = shapely.get_coordinates(resolved.geometry[0])\n\nfig, ax = plt.subplots()\npm.plot(vertices, faces, ax=ax)\nax.scatter(*polygon0_coords.T)"
      ]
    },
    {
      "cell_type": "markdown",
      "metadata": {},
      "source": [
        "## Lines\n\nLines may only be only partially present, or present in holes:\n\n"
      ]
    },
    {
      "cell_type": "code",
      "execution_count": null,
      "metadata": {
        "collapsed": false
      },
      "outputs": [],
      "source": [
        "donut = sg.Polygon(\n    [\n        [0.0, 0.0],\n        [10.0, 0.0],\n        [10.0, 10.0],\n        [0.0, 10.0],\n    ],\n    holes=[\n        [\n            [2.0, 5.0],\n            [5.0, 8.0],\n            [8.0, 5.0],\n            [5.0, 2.0],\n        ]\n    ],\n)\nline0 = shapely.LineString(\n    [\n        [-2.0, 0.0],\n        [12.0, 10.0],\n    ]\n)\nline1 = shapely.LineString(\n    [\n        [5.5, 9.0],\n        [9.0, 5.5],\n    ]\n)\n\ngdf = gpd.GeoDataFrame(geometry=[donut, line0, line1])\ngdf[\"cellsize\"] = [2.0, 1.0, 1.0]\ngdf.plot(edgecolor=\"k\")"
      ]
    },
    {
      "cell_type": "markdown",
      "metadata": {},
      "source": [
        "We can identify these problematic intersections again using\n:func:`pandamesh.find_edge_intersections`:\n\n"
      ]
    },
    {
      "cell_type": "code",
      "execution_count": null,
      "metadata": {
        "collapsed": false
      },
      "outputs": [],
      "source": [
        "intersections = pm.find_edge_intersections(gdf.geometry)\nfig, ax = plt.subplots()\ngdf.plot(ax=ax, facecolor=\"none\")\nintersections.plot(ax=ax)"
      ]
    },
    {
      "cell_type": "markdown",
      "metadata": {},
      "source": [
        "A first step is to remove line segments that do not fall in any polygon:\n\n"
      ]
    },
    {
      "cell_type": "code",
      "execution_count": null,
      "metadata": {
        "collapsed": false
      },
      "outputs": [],
      "source": [
        "resolved = (\n    pm.Preprocessor(geometry=gdf.geometry, values=gdf.cellsize)\n    .clip_lines()\n    .to_geodataframe()\n).rename(columns={\"values\": \"cellsize\"})\nresolved.plot(edgecolor=\"k\")"
      ]
    },
    {
      "cell_type": "markdown",
      "metadata": {},
      "source": [
        "However, this doesn't create suitable input for meshing. The ``GmshMesher``\nappears to hang on this input, and Triangle generates a grid with very small\ntriangles. Pandamesh errors on these intersections by default, but way may\nproceed:\n\n"
      ]
    },
    {
      "cell_type": "code",
      "execution_count": null,
      "metadata": {
        "collapsed": false
      },
      "outputs": [],
      "source": [
        "vertices, faces = pm.TriangleMesher(resolved, intersecting_edges=\"warn\").generate()\npm.plot(vertices, faces)"
      ]
    },
    {
      "cell_type": "markdown",
      "metadata": {},
      "source": [
        "A better approach here is to ensure all intersections are present in all\nlinework:\n\n* First we clip.\n* Then we call ``unify_lines`` to ensure that the intersection of line0 and\n  line1 at (7.625 6.875) is represented.\n* Next we call ``unify_polygons``. This ensures the intersections of the lines\n  with the poygon exterior is represented as well.\n* The result of ``unify_polygons`` is that the line splits the polygon in two\n  parts. These are merged back together with ``merge_polygons``.\n\nIf we plot the vertices of the resolved polygon, we see that the intersection\nvertices have been inserted into the polygon boundaries, and that the tiny\ntriangles around the line intersection have disappeared:\n\n"
      ]
    },
    {
      "cell_type": "code",
      "execution_count": null,
      "metadata": {
        "collapsed": false
      },
      "outputs": [],
      "source": [
        "resolved = (\n    pm.Preprocessor(geometry=gdf.geometry, values=gdf.cellsize)\n    .clip_lines()\n    .unify_lines()\n    .unify_polygons()\n    .merge_polygons()\n    .to_geodataframe()\n).rename(columns={\"values\": \"cellsize\"})\n\nvertices, faces = pm.GmshMesher(resolved).generate(finalize=True)\npolygon0_coords = shapely.get_coordinates(resolved.geometry[0])\n\nfig, ax = plt.subplots()\npm.plot(vertices, faces, ax=ax)\nax.scatter(*polygon0_coords.T)"
      ]
    },
    {
      "cell_type": "markdown",
      "metadata": {},
      "source": [
        "In some cases, having line segments terminate exactly on polygon boundaries\nstill causes trouble. We may also ensure that lines are some distance removed\nfrom any polygon boundary by providing a distance to ``clip_lines``:\n\n"
      ]
    },
    {
      "cell_type": "code",
      "execution_count": null,
      "metadata": {
        "collapsed": false
      },
      "outputs": [],
      "source": [
        "resolved = (\n    pm.Preprocessor(geometry=gdf.geometry, values=gdf.cellsize)\n    .unify_lines()\n    .clip_lines(distance=0.5)\n    .to_geodataframe()\n).rename(columns={\"values\": \"cellsize\"})\n\nvertices, faces = pm.GmshMesher(resolved).generate(finalize=True)\npolygon0_coords = shapely.get_coordinates(resolved.geometry[0])\n\nfig, ax = plt.subplots()\npm.plot(vertices, faces, ax=ax)\nresolved.plot(facecolor=\"none\", edgecolor=\"red\", ax=ax)\nax.scatter(*polygon0_coords.T)"
      ]
    },
    {
      "cell_type": "markdown",
      "metadata": {},
      "source": [
        "Another pragmatic approach is to convert any line into interpolated points.\nPoints cannot intersect each other, which sidesteps a large number of problems.\n\n"
      ]
    },
    {
      "cell_type": "code",
      "execution_count": null,
      "metadata": {
        "collapsed": false
      },
      "outputs": [],
      "source": [
        "resolved = (\n    pm.Preprocessor(geometry=gdf.geometry, values=gdf.cellsize)\n    .interpolate_lines_to_points(distance=0.25)\n    .clip_points()\n    .to_geodataframe()\n).rename(columns={\"values\": \"cellsize\"})\n\nvertices, faces = pm.GmshMesher(resolved).generate(finalize=True)\n\nfig, ax = plt.subplots()\npm.plot(vertices, faces, ax=ax)\nresolved.plot(facecolor=\"none\", edgecolor=\"red\", ax=ax)"
      ]
    },
    {
      "cell_type": "markdown",
      "metadata": {},
      "source": [
        "## Points\n\nNote that the start and end points of the lines are still on, or very near\nthe polygon edges.\n\nWe can remove those points by providing a distance to ``clip_points``.\n\n"
      ]
    },
    {
      "cell_type": "code",
      "execution_count": null,
      "metadata": {
        "collapsed": false
      },
      "outputs": [],
      "source": [
        "resolved = (\n    pm.Preprocessor(geometry=gdf.geometry, values=gdf.cellsize)\n    .interpolate_lines_to_points(distance=0.25)\n    .clip_points(distance=0.5)\n    .to_geodataframe()\n).rename(columns={\"values\": \"cellsize\"})\n\nvertices, faces = pm.GmshMesher(resolved).generate(finalize=True)\n\nfig, ax = plt.subplots()\npm.plot(vertices, faces, ax=ax)\nresolved.plot(facecolor=\"none\", edgecolor=\"red\", ax=ax)"
      ]
    },
    {
      "cell_type": "markdown",
      "metadata": {},
      "source": [
        "A problem with points is that they may be very close together, thereby\ngenerating very small triangles. Let's generate 200 random points to illustrate:\n\n"
      ]
    },
    {
      "cell_type": "code",
      "execution_count": null,
      "metadata": {
        "collapsed": false
      },
      "outputs": [],
      "source": [
        "rng = np.random.default_rng()\npoints = gpd.points_from_xy(*rng.random((2, 200)) * 10.0)\ngdf = gpd.GeoDataFrame(geometry=np.concatenate([[donut], points]))\ngdf[\"cellsize\"] = 2.0\n\nresolved = (\n    pm.Preprocessor(geometry=gdf.geometry, values=gdf.cellsize)\n    .clip_points(distance=0.5)\n    .to_geodataframe()\n).rename(columns={\"values\": \"cellsize\"})\n\nvertices, faces = pm.GmshMesher(resolved).generate(finalize=True)\npm.plot(vertices, faces)"
      ]
    },
    {
      "cell_type": "markdown",
      "metadata": {},
      "source": [
        "We can solve this by snapping points together that are located some distance\nfrom each other:\n\n"
      ]
    },
    {
      "cell_type": "code",
      "execution_count": null,
      "metadata": {
        "collapsed": false
      },
      "outputs": [],
      "source": [
        "resolved = (\n    pm.Preprocessor(geometry=gdf.geometry, values=gdf.cellsize)\n    .clip_points(distance=0.5)\n    .snap_points(distance=0.5)\n    .to_geodataframe()\n).rename(columns={\"values\": \"cellsize\"})\n\nvertices, faces = pm.GmshMesher(resolved).generate(finalize=True)\npm.plot(vertices, faces)"
      ]
    },
    {
      "cell_type": "markdown",
      "metadata": {},
      "source": [
        "## Flexibility and composability\n\nThe Preprocessor class in Pandamesh is designed with flexibility and\ncomposability in mind through method chaining. By combining various\npreprocessing steps in any order, you can address a wide range of geometric\nissues. For instance, you might start by unifying polygons, then clip lines,\ninterpolate them to points, and finally snap those points together.\n\nThe steps required depend on the nature of geometrical input, and may require\nexperimenting with various methods. The intermediate output can be checked\nand visualized at any moments, by calling ``to_geodataframe``. For example,\nto check the intermediate result after clipping but prior to snapping:\n\n"
      ]
    },
    {
      "cell_type": "code",
      "execution_count": null,
      "metadata": {
        "collapsed": false
      },
      "outputs": [],
      "source": [
        "check = (\n    pm.Preprocessor(geometry=gdf.geometry, values=gdf.cellsize)\n    .clip_points(distance=0.5)\n    .to_geodataframe()\n)\n\ncheck.plot(facecolor=\"none\")"
      ]
    },
    {
      "cell_type": "markdown",
      "metadata": {},
      "source": [
        "This also makes it easy to apply the preprocessor in steps. Some steps may be\nrelatively costly, such as unifying a large number of detailed polygons. The\nintermediate result can be stored as e.g. a GeoPackage. Then, in a separate\nprocessing step, the intermediate result can be read again, and other\nprocessing steps (such as filtering points) can be applied.\n\n"
      ]
    }
  ],
  "metadata": {
    "kernelspec": {
      "display_name": "Python 3",
      "language": "python",
      "name": "python3"
    },
    "language_info": {
      "codemirror_mode": {
        "name": "ipython",
        "version": 3
      },
      "file_extension": ".py",
      "mimetype": "text/x-python",
      "name": "python",
      "nbconvert_exporter": "python",
      "pygments_lexer": "ipython3",
      "version": "3.12.9"
    }
  },
  "nbformat": 4,
  "nbformat_minor": 0
}
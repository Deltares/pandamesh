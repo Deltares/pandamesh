{
  "cells": [
    {
      "cell_type": "code",
      "execution_count": null,
      "metadata": {
        "collapsed": false
      },
      "outputs": [],
      "source": [
        "%matplotlib inline"
      ]
    },
    {
      "cell_type": "markdown",
      "metadata": {},
      "source": [
        "\n# Basic Gmsh Example\n\nIn this example we'll create some basic geometries and turn them into meshes.\nto illustrate some of the mesh generation features that Gmsh provides in\ncombination with polygon, point, and linestring geometries represented by\ngeopandas.\n\nThe :py:class:`GmshMesher` supports the geometry show in the basic Triangle\nexample. Not all of those are repeated here, rather we focus on some of the\nadditional features that Gmsh provides.\n"
      ]
    },
    {
      "cell_type": "code",
      "execution_count": null,
      "metadata": {
        "collapsed": false
      },
      "outputs": [],
      "source": [
        "import geopandas as gpd\nimport matplotlib.pyplot as plt\nimport shapely.geometry as sg\n\nimport pandamesh as pm"
      ]
    },
    {
      "cell_type": "markdown",
      "metadata": {},
      "source": [
        "## A simple rectangular mesh\n\nThe most simple example is perhaps a rectangle. We'll create a vector\ngeometry, store this in a geodataframe, and associate a cell size.\n\n"
      ]
    },
    {
      "cell_type": "code",
      "execution_count": null,
      "metadata": {
        "collapsed": false
      },
      "outputs": [],
      "source": [
        "polygon = sg.Polygon(\n    [\n        [0.0, 0.0],\n        [10.0, 0.0],\n        [10.0, 10.0],\n        [0.0, 10.0],\n    ]\n)\ngdf = gpd.GeoDataFrame(geometry=[polygon])\ngdf[\"cellsize\"] = 2.0"
      ]
    },
    {
      "cell_type": "markdown",
      "metadata": {},
      "source": [
        "We'll use this polygon to generate a mesh. We start by initializing a\nTriangleMesher, which is a simple wrapper around the Python bindings to the\nGmsh C++-library. This wrapper extracts the coordinates and presents them\nin the appropriate manner for Gmsh.\n\n"
      ]
    },
    {
      "cell_type": "code",
      "execution_count": null,
      "metadata": {
        "collapsed": false
      },
      "outputs": [],
      "source": [
        "mesher = pm.GmshMesher(gdf)\nvertices, triangles = mesher.generate()\npm.plot(vertices, triangles)"
      ]
    },
    {
      "cell_type": "markdown",
      "metadata": {},
      "source": [
        "As the name suggests, Triangle only generates triangular meshes. Gmsh is\ncapable of generating quadrilateral-dominant meshes, and has a lot more bells\nand whistles for defining cellsizes.\n\n"
      ]
    },
    {
      "cell_type": "code",
      "execution_count": null,
      "metadata": {
        "collapsed": false
      },
      "outputs": [],
      "source": [
        "line = sg.LineString([(2.0, 8.0), (8.0, 2.0)])\ngdf = gpd.GeoDataFrame(geometry=[polygon, line])\ngdf[\"cellsize\"] = [2.0, 0.2]\n\nfig, (ax0, ax1) = plt.subplots(ncols=2)\n\nmesher = pm.TriangleMesher(gdf)\nvertices, triangles = mesher.generate()\npm.plot(vertices, triangles, ax=ax0)\n\nmesher = pm.GmshMesher(gdf)\nvertices, triangles = mesher.generate()\npm.plot(vertices, triangles, ax=ax1)"
      ]
    },
    {
      "cell_type": "markdown",
      "metadata": {},
      "source": [
        "Gmsh allows for specifying cell sizes not just on polygons (regions) like\nTriangle (left), but on individual vertices as well, as is visible around the\ndiagonal (right).\n\n## Defaults\n\nThe GmshMesher class is initialized with a number of default parameters:\n\n"
      ]
    },
    {
      "cell_type": "code",
      "execution_count": null,
      "metadata": {
        "collapsed": false
      },
      "outputs": [],
      "source": [
        "print(mesher)"
      ]
    },
    {
      "cell_type": "markdown",
      "metadata": {},
      "source": [
        "## Quadrilateral meshes\n\nIt is also capable of generating quadrilateral (dominant) meshes:\n\n"
      ]
    },
    {
      "cell_type": "code",
      "execution_count": null,
      "metadata": {
        "collapsed": false
      },
      "outputs": [],
      "source": [
        "gdf = gpd.GeoDataFrame(geometry=[polygon])\ngdf[\"cellsize\"] = 2.0\nmesher = pm.GmshMesher(gdf)\nmesher.recombine_all = True\nvertices, faces = mesher.generate()\n\npm.plot(vertices, faces)"
      ]
    },
    {
      "cell_type": "markdown",
      "metadata": {},
      "source": [
        "## Writing to file\nIt's also possible to use the Python bindings to write a Gmsh ``.msh`` file.\nThis file can be opened using the Gmsh GUI to e.g. inspect the generated\nmesh.\n\n"
      ]
    },
    {
      "cell_type": "code",
      "execution_count": null,
      "metadata": {
        "collapsed": false
      },
      "outputs": [],
      "source": [
        "mesher.write(\"my-mesh.msh\")"
      ]
    }
  ],
  "metadata": {
    "kernelspec": {
      "display_name": "Python 3",
      "language": "python",
      "name": "python3"
    },
    "language_info": {
      "codemirror_mode": {
        "name": "ipython",
        "version": 3
      },
      "file_extension": ".py",
      "mimetype": "text/x-python",
      "name": "python",
      "nbconvert_exporter": "python",
      "pygments_lexer": "ipython3",
      "version": "3.9.9"
    }
  },
  "nbformat": 4,
  "nbformat_minor": 0
}
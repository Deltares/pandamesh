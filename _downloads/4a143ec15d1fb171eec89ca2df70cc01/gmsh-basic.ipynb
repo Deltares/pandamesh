{
  "cells": [
    {
      "cell_type": "code",
      "execution_count": null,
      "metadata": {
        "collapsed": false
      },
      "outputs": [],
      "source": [
        "%matplotlib inline"
      ]
    },
    {
      "cell_type": "markdown",
      "metadata": {},
      "source": [
        "\n# Basic Gmsh Example\n\nIn this example we'll create some basic geometries and turn them into meshes.\nto illustrate some of the mesh generation features that Gmsh provides in\ncombination with polygon, point, and linestring geometries represented by\ngeopandas.\n\nThe :py:class:`GmshMesher` supports the geometry show in the basic Triangle\nexample and has a number of additional features.\n"
      ]
    },
    {
      "cell_type": "code",
      "execution_count": null,
      "metadata": {
        "collapsed": false
      },
      "outputs": [],
      "source": [
        "import geopandas as gpd\nimport matplotlib.pyplot as plt\nimport numpy as np\nimport shapely.geometry as sg\n\nimport pandamesh as pm"
      ]
    },
    {
      "cell_type": "markdown",
      "metadata": {},
      "source": [
        "## A simple rectangular mesh\n\nThe most simple example is perhaps a rectangle. We'll create a vector\ngeometry, store this in a geodataframe, and associate a cell size.\n\n"
      ]
    },
    {
      "cell_type": "code",
      "execution_count": null,
      "metadata": {
        "collapsed": false
      },
      "outputs": [],
      "source": [
        "polygon = sg.Polygon(\n    [\n        [0.0, 0.0],\n        [10.0, 0.0],\n        [10.0, 10.0],\n        [0.0, 10.0],\n    ]\n)\ngdf = gpd.GeoDataFrame(geometry=[polygon])\ngdf[\"cellsize\"] = 2.0"
      ]
    },
    {
      "cell_type": "markdown",
      "metadata": {},
      "source": [
        "We'll use this polygon to generate a mesh. We start by initializing a\nTriangleMesher, which is a simple wrapper around the Python bindings to the\nGmsh C++-library. This wrapper extracts the coordinates and presents them\nin the appropriate manner for Gmsh.\n\n"
      ]
    },
    {
      "cell_type": "code",
      "execution_count": null,
      "metadata": {
        "collapsed": false
      },
      "outputs": [],
      "source": [
        "mesher = pm.GmshMesher(gdf)\nvertices, triangles = mesher.generate()\npm.plot(vertices, triangles)"
      ]
    },
    {
      "cell_type": "markdown",
      "metadata": {},
      "source": [
        "As the name suggests, Triangle only generates triangular meshes. Gmsh is\ncapable of generating quadrilateral-dominant meshes, and has a lot more bells\nand whistles for defining cellsizes.\n\n"
      ]
    },
    {
      "cell_type": "code",
      "execution_count": null,
      "metadata": {
        "collapsed": false
      },
      "outputs": [],
      "source": [
        "line = sg.LineString([(2.0, 8.0), (8.0, 2.0)])\ngdf = gpd.GeoDataFrame(geometry=[polygon, line])\ngdf[\"cellsize\"] = [2.0, 0.5]\n\nfig, (ax0, ax1) = plt.subplots(ncols=2)\n\nmesher = pm.TriangleMesher(gdf)\nvertices, triangles = mesher.generate()\npm.plot(vertices, triangles, ax=ax0)\n\nmesher = pm.GmshMesher(gdf)\nvertices, triangles = mesher.generate()\npm.plot(vertices, triangles, ax=ax1)"
      ]
    },
    {
      "cell_type": "markdown",
      "metadata": {},
      "source": [
        "Gmsh allows for specifying cell sizes not just on polygons (regions) like\nTriangle (left), but on individual vertices as well, as is visible around the\ndiagonal (right).\n\n## Defaults\n\nThe GmshMesher class is initialized with a number of default parameters:\n\n"
      ]
    },
    {
      "cell_type": "code",
      "execution_count": null,
      "metadata": {
        "collapsed": false
      },
      "outputs": [],
      "source": [
        "print(mesher)"
      ]
    },
    {
      "cell_type": "markdown",
      "metadata": {},
      "source": [
        "The parameters of Gmsh differ from Triangle, but they work the same: they can\nbe altered after initialization to control the triangulation.\n\n## Forcing points, lines, local refinement\n\nWe can force points and lines into the triangulation:\n\n"
      ]
    },
    {
      "cell_type": "code",
      "execution_count": null,
      "metadata": {
        "collapsed": false
      },
      "outputs": [],
      "source": [
        "outer = [(0.0, 0.0), (10.0, 0.0), (10.0, 10.0), (0.0, 10.0)]\ninner = [(3.0, 3.0), (7.0, 3.0), (7.0, 7.0), (3.0, 7.0)]\ndonut = sg.Polygon(shell=outer, holes=[inner])\nrefined = sg.Polygon(inner)\n\ny = np.arange(0.5, 10.0, 0.5)\nx = np.full(y.size, 1.0)\npoints = gpd.points_from_xy(x, y)\n\nline = sg.LineString(\n    [\n        [9.0, 2.0],\n        [9.0, 8.0],\n    ]\n)\n\ngdf = gpd.GeoDataFrame(geometry=[donut, refined, line, *points])\ngdf[\"cellsize\"] = [2.0, 0.5, 2.0] + (len(points) * [2.0])\n\nmesher = pm.GmshMesher(gdf)\nvertices, triangles = mesher.generate()\n\nfig, ax = plt.subplots()\npm.plot(vertices, triangles, ax=ax)\ngdf.plot(facecolor=\"none\", edgecolor=\"red\", ax=ax)"
      ]
    },
    {
      "cell_type": "markdown",
      "metadata": {},
      "source": [
        "## Quadrilateral meshes\n\nOne of the features of Gmsh is that it is also capable of generating\nquadrilateral (dominant) meshes, by recombining triangles. We can achieve\nthis by changing a parameter on the mesher:\n\n"
      ]
    },
    {
      "cell_type": "code",
      "execution_count": null,
      "metadata": {
        "collapsed": false
      },
      "outputs": [],
      "source": [
        "gdf = gpd.GeoDataFrame(geometry=[polygon])\ngdf[\"cellsize\"] = 2.0\nmesher = pm.GmshMesher(gdf)\nmesher.recombine_all = True\nvertices, faces = mesher.generate()\n\npm.plot(vertices, faces)"
      ]
    },
    {
      "cell_type": "markdown",
      "metadata": {},
      "source": [
        "## Writing to file\nIt's also possible to use the Python bindings to write a Gmsh ``.msh`` file.\nThis file can be opened using the Gmsh GUI to e.g. inspect the generated\nmesh.\n\n"
      ]
    },
    {
      "cell_type": "code",
      "execution_count": null,
      "metadata": {
        "collapsed": false
      },
      "outputs": [],
      "source": [
        "mesher.write(\"my-mesh.msh\")"
      ]
    },
    {
      "cell_type": "markdown",
      "metadata": {},
      "source": [
        "## Conclusion\n\nIn real use, the vector geometries will be more complex, and not based on\njust a few coordinate pairs. Such cases are presented in the other examples,\nbut the same principles apply: we may use polygons, linestrings and points\nwith associated cell sizes to steer the triangulation; unlike Triangle,\nfor Gmsh cell sizes can associated to linestrings and points, not just\npolygons.\n\n"
      ]
    }
  ],
  "metadata": {
    "kernelspec": {
      "display_name": "Python 3",
      "language": "python",
      "name": "python3"
    },
    "language_info": {
      "codemirror_mode": {
        "name": "ipython",
        "version": 3
      },
      "file_extension": ".py",
      "mimetype": "text/x-python",
      "name": "python",
      "nbconvert_exporter": "python",
      "pygments_lexer": "ipython3",
      "version": "3.9.16"
    }
  },
  "nbformat": 4,
  "nbformat_minor": 0
}
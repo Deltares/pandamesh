{
  "cells": [
    {
      "cell_type": "code",
      "execution_count": null,
      "metadata": {
        "collapsed": false
      },
      "outputs": [],
      "source": [
        "%matplotlib inline"
      ]
    },
    {
      "cell_type": "markdown",
      "metadata": {},
      "source": [
        "\n# Geospatial Triangle Example\n\nIn this example we'll illustrate how to generate a mesh from a \"real-world\"\ngeospatial vector dataset.\n"
      ]
    },
    {
      "cell_type": "code",
      "execution_count": null,
      "metadata": {
        "collapsed": false
      },
      "outputs": [],
      "source": [
        "import geopandas as gpd\nimport matplotlib.pyplot as plt\nimport pandas as pd\nimport shapely.geometry as sg\n\nimport pandamesh as pm"
      ]
    },
    {
      "cell_type": "markdown",
      "metadata": {},
      "source": [
        "## Overlap\n\nWe will open a GeoJSON file describing the provinces of the Netherlands, and\nselect only the name and geometry columns. We'll set the coordinate reference\nsystem to the Dutch national standard (EPSG:28992). Finally we set the name\ncolumn to be used as index, so we can select provinces on name.\n\n"
      ]
    },
    {
      "cell_type": "code",
      "execution_count": null,
      "metadata": {
        "collapsed": false
      },
      "outputs": [],
      "source": [
        "provinces = gpd.read_file(\"data/provinces.geojson\").loc[:, [\"name\", \"geometry\"]]\nprovinces = provinces.to_crs(\"epsg:28992\")\nprovinces.index = provinces[\"name\"]\ngdf = provinces.copy()"
      ]
    },
    {
      "cell_type": "markdown",
      "metadata": {},
      "source": [
        "The mesh generation software cannot deal with overlap of polygons. To get rid\nof overlap, we can use the spatial functionality that geopandas provides.\nLet's check the polygons for overlap first.\n\n"
      ]
    },
    {
      "cell_type": "code",
      "execution_count": null,
      "metadata": {
        "collapsed": false
      },
      "outputs": [],
      "source": [
        "overlap = gdf.overlay(gdf, how=\"intersection\", keep_geom_type=True)\noverlap = overlap.loc[overlap[\"name_1\"] != overlap[\"name_2\"]]\n\nfig, ax = plt.subplots()\ngdf.plot(ax=ax)\noverlap.plot(edgecolor=\"red\", ax=ax)"
      ]
    },
    {
      "cell_type": "markdown",
      "metadata": {},
      "source": [
        "## Clean-up\n\nThere are many small overlaps visible at the province borders.\n\nWe can generate a consistent polygon using a unary union.\n\n"
      ]
    },
    {
      "cell_type": "code",
      "execution_count": null,
      "metadata": {
        "collapsed": false
      },
      "outputs": [],
      "source": [
        "union = sg.Polygon(gdf.unary_union)\nunion_gdf = gpd.GeoDataFrame(geometry=[union])\nunion_gdf[\"cellsize\"] = 10_000.0"
      ]
    },
    {
      "cell_type": "markdown",
      "metadata": {},
      "source": [
        "Unfortunately, the province boundaries of this dataset no do align neatly and\nthere are a number of small holes present. Some of these holes are not formed\nby inconsistencies, but by a small number of Belgian exclaves,\n`Baarle-Hertog`_.\n\n## Simplify\n\nWe'll ignore the subtleties of international law for now and use geopandas to\nremove all blemishes by:\n\n* squeezing out the holes with ``.buffer``\n* dissolving the buffered polygons into a single polygon with ``.dissolve``\n* simplifying the dissolved polygon to avoid over-refinement with ``.simplify``\n\nThis creates a clean, and simpler, geometry.\n\n"
      ]
    },
    {
      "cell_type": "code",
      "execution_count": null,
      "metadata": {
        "collapsed": false
      },
      "outputs": [],
      "source": [
        "simplified = gdf.copy()\nsimplified.geometry = simplified.geometry.buffer(500.0)\nsimplified[\"dissolve_column\"] = 0\nsimplified = simplified.dissolve(by=\"dissolve_column\")\nsimplified.geometry = simplified.geometry.simplify(5_000.0)\nsimplified[\"cellsize\"] = 10_000.0\n\nsimplified.plot()"
      ]
    },
    {
      "cell_type": "markdown",
      "metadata": {},
      "source": [
        "Using this clean geometry, we can generate an unstructured grid with a fairly\nconstant cell size.\n\n"
      ]
    },
    {
      "cell_type": "code",
      "execution_count": null,
      "metadata": {
        "collapsed": false
      },
      "outputs": [],
      "source": [
        "mesher = pm.TriangleMesher(simplified)\nvertices, triangles = mesher.generate()\npm.plot(vertices, triangles)"
      ]
    },
    {
      "cell_type": "markdown",
      "metadata": {},
      "source": [
        "## Local refinement\n\nTo set a zone of refinement, we can define an additional polygon. We need to\nensure that no overlap occurs in the follwing steps:\n\n* select the geometry of a single province;\n* simplify its geometry to an appropriate level of detail;\n* specify a smaller cell size;\n* remove this province from the enveloping polygon;\n* collect the two polygons in a single geodataframe.\n\n"
      ]
    },
    {
      "cell_type": "code",
      "execution_count": null,
      "metadata": {
        "collapsed": false
      },
      "outputs": [],
      "source": [
        "utrecht = gdf.loc[[\"Utrecht\"]]\nutrecht.geometry = utrecht.geometry.simplify(2_500.0)\nutrecht[\"cellsize\"] = 5000.0\n\nenvelope = simplified.overlay(utrecht, how=\"difference\")\nrefined = pd.concat([envelope, utrecht])\nrefined.index = [0, 1]\nrefined.plot(column=\"name\")"
      ]
    },
    {
      "cell_type": "markdown",
      "metadata": {},
      "source": [
        "This results in a mesh with a smaller cell size in the province of Utrecht.\n\n"
      ]
    },
    {
      "cell_type": "code",
      "execution_count": null,
      "metadata": {
        "collapsed": false
      },
      "outputs": [],
      "source": [
        "mesher = pm.TriangleMesher(refined)\nvertices, triangles = mesher.generate()\npm.plot(vertices, triangles)"
      ]
    },
    {
      "cell_type": "markdown",
      "metadata": {},
      "source": [
        "## Conclusion\n\nThis example provides a taste of how to convert a geospatial vector dataset\ninto an unstructured grid with a locally refined part. Real-world data\ngenerally come with their own idiosyncrasies and inconsistencies. Depending\non the nature of the necessary fixes, they can be solved with geopandas\nfunctionality, but sometimes manual editing is required. Fortunately,\ngeopandas provides easy input and output for many file formats, which can be\nopened by e.g. QGIS.\n\n\n"
      ]
    }
  ],
  "metadata": {
    "kernelspec": {
      "display_name": "Python 3",
      "language": "python",
      "name": "python3"
    },
    "language_info": {
      "codemirror_mode": {
        "name": "ipython",
        "version": 3
      },
      "file_extension": ".py",
      "mimetype": "text/x-python",
      "name": "python",
      "nbconvert_exporter": "python",
      "pygments_lexer": "ipython3",
      "version": "3.9.9"
    }
  },
  "nbformat": 4,
  "nbformat_minor": 0
}
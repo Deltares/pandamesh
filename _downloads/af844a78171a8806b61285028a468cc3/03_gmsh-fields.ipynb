{
  "cells": [
    {
      "cell_type": "markdown",
      "metadata": {},
      "source": [
        "\n# Gmsh Fields Example\n\nGmsh supports so called \"fields\" to guide the cell sizes of the generated\nmeshes. These fields are separate from the geometrical constraints: for\nexample, a field point does not end up in the generated mesh, but influences\nthe cell size in its surrounding.\n\nThese field geometries can be added via:\n\n* :meth:`pandamesh.GmshMesher.add_threshold_distance_field()`\n* :meth:`pandamesh.GmshMesher.add_matheval_distance_field()`\n* :meth:`pandamesh.GmshMesher.add_structured_field()`\n* :meth:`pandamesh.GmshMesher.add_structured_field_from_dataarray()`,\n\nThe examples below demonstrate how to set up these distance fields for meshing.\n"
      ]
    },
    {
      "cell_type": "code",
      "execution_count": null,
      "metadata": {
        "collapsed": false
      },
      "outputs": [],
      "source": [
        "import geopandas as gpd\nimport matplotlib.pyplot as plt\nimport numpy as np\nimport shapely.geometry as sg\n\nimport pandamesh as pm"
      ]
    },
    {
      "cell_type": "markdown",
      "metadata": {},
      "source": [
        "## Point fields\n\nWe'll start again with simple rectangular example.\n\n"
      ]
    },
    {
      "cell_type": "code",
      "execution_count": null,
      "metadata": {
        "collapsed": false
      },
      "outputs": [],
      "source": [
        "polygon = sg.Polygon(\n    [\n        [0.0, 0.0],\n        [10.0, 0.0],\n        [10.0, 10.0],\n        [0.0, 10.0],\n    ]\n)\npoint = sg.Point([4.0, 4.0])\ngdf = gpd.GeoDataFrame(geometry=[polygon])\ngdf[\"cellsize\"] = 5.0\n\nmesher = pm.GmshMesher(gdf, shift_origin=False)\nmesher.mesh_size_extend_from_boundary = False\nmesher.mesh_size_from_curvature = False\nmesher.mesh_size_from_points = False\n\npm.plot(*mesher.generate())"
      ]
    },
    {
      "cell_type": "markdown",
      "metadata": {},
      "source": [
        "## Threshold distance fields\n\nGmsh supports changing cell sizes gradually, for example as a function of\ndistance to a feature. We can add a point, and connect a distance threshold\nfield to it:\n\n"
      ]
    },
    {
      "cell_type": "code",
      "execution_count": null,
      "metadata": {
        "collapsed": false
      },
      "outputs": [],
      "source": [
        "point = sg.Point([4.0, 4.0])\nfield = gpd.GeoDataFrame(geometry=[point])\nfield[\"dist_min\"] = 2.0\nfield[\"dist_max\"] = 4.0\nfield[\"size_min\"] = 0.5\nfield[\"size_max\"] = 2.5\nfield[\"spacing\"] = np.nan\nmesher.add_threshold_distance_field(field)\n\nvertices, faces = mesher.generate()\npm.plot(vertices, faces)"
      ]
    },
    {
      "cell_type": "markdown",
      "metadata": {},
      "source": [
        "Within the ``dist_min`` of the point, all cell sizes have size of at most\n``size_min``. This changes linearly until ``dist_max`` is reached, at which point\nthe cell sizes become ``size_max``.\n\nFields can be removed via ``.clear_fields()``:\n\n"
      ]
    },
    {
      "cell_type": "code",
      "execution_count": null,
      "metadata": {
        "collapsed": false
      },
      "outputs": [],
      "source": [
        "mesher.clear_fields()\nvertices, faces = mesher.generate()\npm.plot(vertices, faces)"
      ]
    },
    {
      "cell_type": "markdown",
      "metadata": {},
      "source": [
        "Gmsh only measures distances to point. The ``spacing`` is used to interpolate\npoints along lines:\n\n"
      ]
    },
    {
      "cell_type": "code",
      "execution_count": null,
      "metadata": {
        "collapsed": false
      },
      "outputs": [],
      "source": [
        "mesher.clear_fields()\n\nline = sg.LineString(\n    [\n        [3.0, -3.0],\n        [3.0, 13.0],\n    ]\n)\nfield = gpd.GeoDataFrame(geometry=[line])\nfield[\"dist_min\"] = 2.0\nfield[\"dist_max\"] = 4.0\nfield[\"size_min\"] = 0.5\nfield[\"size_max\"] = 2.5\nfield[\"spacing\"] = 2.0\nmesher.add_threshold_distance_field(field)\n\nvertices, faces = mesher.generate()\npm.plot(vertices, faces)"
      ]
    },
    {
      "cell_type": "markdown",
      "metadata": {},
      "source": [
        "Note that unlike the mesher input geometries, these geometries may fall\noutside the meshing domain: they only \"radiate\" a cell size.\n\nPolygons can also be used as field geometries. Distances are measured from\ninternal and external boundaries:\n\n"
      ]
    },
    {
      "cell_type": "code",
      "execution_count": null,
      "metadata": {
        "collapsed": false
      },
      "outputs": [],
      "source": [
        "mesher.clear_fields()\n\nsquare = sg.Polygon(\n    [\n        [3.0, 3.0],\n        [7.0, 3.0],\n        [7.0, 7.0],\n        [3.0, 7.0],\n    ]\n)\nfield = gpd.GeoDataFrame(geometry=[square])\nfield[\"dist_min\"] = 0.5\nfield[\"dist_max\"] = 1.5\nfield[\"size_min\"] = 0.3\nfield[\"size_max\"] = 2.5\nfield[\"spacing\"] = 1.0\nmesher.add_threshold_distance_field(field)\n\nvertices, faces = mesher.generate()\npm.plot(vertices, faces)"
      ]
    },
    {
      "cell_type": "markdown",
      "metadata": {},
      "source": [
        "## MathEval distance fields\n\nGmsh also supports arbitrary mathematical functions. With Pandamesh, these\ncan be easily combined to specify cell size a function to some boundary. For\nexample, we can specify cell size as quadratically growing with the distance\nfrom the left boundary:\n\n"
      ]
    },
    {
      "cell_type": "code",
      "execution_count": null,
      "metadata": {
        "collapsed": false
      },
      "outputs": [],
      "source": [
        "mesher.clear_fields()\n\nline = sg.LineString(\n    [\n        [0.0, 0.0],\n        [0.0, 10.0],\n    ]\n)\nfield = gpd.GeoDataFrame(geometry=[line])\nfield[\"function\"] = \"distance^2 + 0.3\"\nfield[\"spacing\"] = 1.0\nmesher.add_matheval_distance_field(field)\n\nvertices, faces = mesher.generate()\npm.plot(vertices, faces)"
      ]
    },
    {
      "cell_type": "markdown",
      "metadata": {},
      "source": [
        "Note that we should take care to specify a function which is always larger\nthan zero in the meshing domain.\n\nUnlike input geometries, fields can be added in a piece by piece manner. The\ndistance is always relative to the feature of the geometry in the\nGeoDataFrame row.\n\n"
      ]
    },
    {
      "cell_type": "code",
      "execution_count": null,
      "metadata": {
        "collapsed": false
      },
      "outputs": [],
      "source": [
        "second_field = gpd.GeoDataFrame(geometry=[sg.Point([5.0, 5.0])])\nsecond_field[\"function\"] = \"max(1/(distance^2), 2.0)\"\nsecond_field[\"spacing\"] = np.nan\nmesher.add_matheval_distance_field(second_field)\n\nvertices, faces = mesher.generate()\npm.plot(vertices, faces)"
      ]
    },
    {
      "cell_type": "markdown",
      "metadata": {},
      "source": [
        "## Structured fields\n\nIn some cases, the generated cell size should depend on some physical\nproperties of the domain. In geospatial applications, such properties are\noften represented as raster data. These data can be used to guide mesh\ngeneration as a structured grid. The cell size is prescribed at the grid\npoints, and interpolated between.\n\nIn the example below, we generate 3 by 3 grid of cell sizes, with small cell\nsizes in the lower left corner, and large cell sizes in the upper right:\n\n"
      ]
    },
    {
      "cell_type": "code",
      "execution_count": null,
      "metadata": {
        "collapsed": false
      },
      "outputs": [],
      "source": [
        "mesher.clear_fields()\n\ny, x = np.meshgrid([1.0, 5.0, 9.0], [1.0, 5.0, 9.0], indexing=\"ij\")\ndistance_from_origin = np.sqrt((x * x + y * y))\ncellsize = np.log(distance_from_origin / distance_from_origin.min()) + 0.5\nmesher.add_structured_field(\n    cellsize=cellsize,\n    xmin=x.min(),\n    ymin=y.min(),\n    dx=1.0,\n    dy=1.0,\n)\nvertices, faces = mesher.generate()\n\nfig, ax = plt.subplots()\npm.plot(vertices, faces, ax=ax)\nax.scatter(x, y)"
      ]
    },
    {
      "cell_type": "markdown",
      "metadata": {},
      "source": [
        "## DataArray structured fields\n\nThese structured fields can also be provided as xarray DataArrays:\n\n"
      ]
    },
    {
      "cell_type": "code",
      "execution_count": null,
      "metadata": {
        "collapsed": false
      },
      "outputs": [],
      "source": [
        "mesher.clear_fields()\n\nimport xarray as xr\n\nx = np.arange(1.0, 10.0)\ny = np.arange(1.0, 10.0)\nda = xr.DataArray(np.ones((y.size, x.size)), coords={\"y\": y, \"x\": x}, dims=(\"y\", \"x\"))\n\nmesher.add_structured_field_from_dataarray(da)\nvertices, faces = mesher.generate()\npm.plot(vertices, faces)"
      ]
    },
    {
      "cell_type": "markdown",
      "metadata": {},
      "source": [
        "This is arguably the most flexible way of configuring cell sizes, since we\ncan easily modify the DataArray values. Note that like the MathEval\nspecification, we need to take care to ensure values remain > 0.\n\n"
      ]
    },
    {
      "cell_type": "code",
      "execution_count": null,
      "metadata": {
        "collapsed": false
      },
      "outputs": [],
      "source": [
        "mesher.clear_fields()\n\ncos_da = da * np.cos(da[\"x\"]) + 1.1\nmesher.add_structured_field_from_dataarray(cos_da)\nvertices, faces = mesher.generate()\npm.plot(vertices, faces)"
      ]
    }
  ],
  "metadata": {
    "kernelspec": {
      "display_name": "Python 3",
      "language": "python",
      "name": "python3"
    },
    "language_info": {
      "codemirror_mode": {
        "name": "ipython",
        "version": 3
      },
      "file_extension": ".py",
      "mimetype": "text/x-python",
      "name": "python",
      "nbconvert_exporter": "python",
      "pygments_lexer": "ipython3",
      "version": "3.12.11"
    }
  },
  "nbformat": 4,
  "nbformat_minor": 0
}
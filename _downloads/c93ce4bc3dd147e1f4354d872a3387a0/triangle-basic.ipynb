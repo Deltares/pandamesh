{
  "cells": [
    {
      "cell_type": "markdown",
      "metadata": {},
      "source": [
        "\n# Basic Triangle Example\n\nIn this example we'll create some basic geometries and turn them into meshes.\nto illustrate some of the mesh generation features that Triangle provides in\ncombination with polygon, point, and linestring geometries represented by\ngeopandas.\n"
      ]
    },
    {
      "cell_type": "code",
      "execution_count": null,
      "metadata": {
        "collapsed": false
      },
      "outputs": [],
      "source": [
        "import geopandas as gpd\nimport matplotlib.pyplot as plt\nimport numpy as np\nimport shapely.geometry as sg\n\nimport pandamesh as pm"
      ]
    },
    {
      "cell_type": "markdown",
      "metadata": {},
      "source": [
        "## A simple rectangular mesh\n\nThe most simple example is perhaps a rectangle. We'll create a vector\ngeometry, store this in a geodataframe, and associate a cell size.\n\n"
      ]
    },
    {
      "cell_type": "code",
      "execution_count": null,
      "metadata": {
        "collapsed": false
      },
      "outputs": [],
      "source": [
        "polygon = sg.Polygon(\n    [\n        [0.0, 0.0],\n        [10.0, 0.0],\n        [10.0, 10.0],\n        [0.0, 10.0],\n    ]\n)\ngdf = gpd.GeoDataFrame(geometry=[polygon])\ngdf[\"cellsize\"] = 2.0"
      ]
    },
    {
      "cell_type": "markdown",
      "metadata": {},
      "source": [
        "We'll use this polygon to generate a mesh. We start by initializing a\nTriangleMesher, which is a simple wrapper around the Python bindings to the\nTriangle C-library. This wrapper extracts the coordinates and presents them\nin the appropriate manner for triangle.\n\n"
      ]
    },
    {
      "cell_type": "code",
      "execution_count": null,
      "metadata": {
        "collapsed": false
      },
      "outputs": [],
      "source": [
        "mesher = pm.TriangleMesher(gdf)\nvertices, triangles = mesher.generate()\npm.plot(vertices, triangles)"
      ]
    },
    {
      "cell_type": "markdown",
      "metadata": {},
      "source": [
        "## Defaults\n\nThe TriangleMesher class is initialized with a number of default parameters:\n\n"
      ]
    },
    {
      "cell_type": "code",
      "execution_count": null,
      "metadata": {
        "collapsed": false
      },
      "outputs": [],
      "source": [
        "print(mesher)"
      ]
    },
    {
      "cell_type": "markdown",
      "metadata": {},
      "source": [
        "We can change a parameter, and see what effects this has on the mesh:\n\n"
      ]
    },
    {
      "cell_type": "code",
      "execution_count": null,
      "metadata": {
        "collapsed": false
      },
      "outputs": [],
      "source": [
        "mesher.conforming_delaunay = False\nvertices, triangles = mesher.generate()\npm.plot(vertices, triangles)"
      ]
    },
    {
      "cell_type": "markdown",
      "metadata": {},
      "source": [
        "To generate a mesh with smaller cell sizes, we adjust the geodataframe, and\nrecreate the mesher.\n\n"
      ]
    },
    {
      "cell_type": "code",
      "execution_count": null,
      "metadata": {
        "collapsed": false
      },
      "outputs": [],
      "source": [
        "gdf[\"cellsize\"] = 1.0\nmesher = pm.TriangleMesher(gdf)\nvertices, triangles = mesher.generate()\npm.plot(vertices, triangles)"
      ]
    },
    {
      "cell_type": "markdown",
      "metadata": {},
      "source": [
        "## Multiple cell size zones\n\nMultiple zones of cell sizes are supported, as every polygon can be associated\nwith a cell size in the geodataframe.\n\n"
      ]
    },
    {
      "cell_type": "code",
      "execution_count": null,
      "metadata": {
        "collapsed": false
      },
      "outputs": [],
      "source": [
        "polygon2 = sg.Polygon(\n    [\n        [10.0, 0.0],\n        [20.0, 0.0],\n        [20.0, 10.0],\n        [10.0, 10.0],\n    ]\n)\ngdf = gpd.GeoDataFrame(geometry=[polygon, polygon2])\ngdf[\"cellsize\"] = [2.0, 1.0]\n\nmesher = pm.TriangleMesher(gdf)\nvertices, triangles = mesher.generate()\npm.plot(vertices, triangles)"
      ]
    },
    {
      "cell_type": "markdown",
      "metadata": {},
      "source": [
        "## Polygons with holes (\"donut\" geometries)\n\nHoles in polygons work as expected:\n\n"
      ]
    },
    {
      "cell_type": "code",
      "execution_count": null,
      "metadata": {
        "collapsed": false
      },
      "outputs": [],
      "source": [
        "outer = [(0.0, 0.0), (10.0, 0.0), (10.0, 10.0), (0.0, 10.0)]\ninner = [(3.0, 3.0), (7.0, 3.0), (7.0, 7.0), (3.0, 7.0)]\n\ndonut = sg.Polygon(shell=outer, holes=[inner])\ngdf = gpd.GeoDataFrame(geometry=[donut])\ngdf[\"cellsize\"] = [2.0]\n\nmesher = pm.TriangleMesher(gdf)\nvertices, triangles = mesher.generate()\npm.plot(vertices, triangles)"
      ]
    },
    {
      "cell_type": "markdown",
      "metadata": {},
      "source": [
        "## Local refinement\n\nTo do local refinement, we need to ensure there is no overlap between the\npolygons. The coordinates of the hole of the outer polygon should match\nexactly with the coordinates of the exterior boundary of the inner polygon.\n\n"
      ]
    },
    {
      "cell_type": "code",
      "execution_count": null,
      "metadata": {
        "collapsed": false
      },
      "outputs": [],
      "source": [
        "refined = sg.Polygon(inner)\n\ngdf = gpd.GeoDataFrame(geometry=[donut, refined])\ngdf[\"cellsize\"] = [2.0, 0.5]\n\nmesher = pm.TriangleMesher(gdf)\nvertices, triangles = mesher.generate()\npm.plot(vertices, triangles)"
      ]
    },
    {
      "cell_type": "markdown",
      "metadata": {},
      "source": [
        "## Force points into the triangulation\n\nWe may also force points into the triangulation, by adding points to the\ngeodataframe. Let's assume we'd like to a series of points at x=1.0, at a\ndistance of 0.5.\n\n"
      ]
    },
    {
      "cell_type": "code",
      "execution_count": null,
      "metadata": {
        "collapsed": false
      },
      "outputs": [],
      "source": [
        "y = np.arange(0.5, 10.0, 0.5)\nx = np.full(y.size, 1.0)\npoints = gpd.points_from_xy(x, y)\n\ngdf = gpd.GeoDataFrame(geometry=[donut, refined, *points])\ngdf[\"cellsize\"] = [2.0, 0.5] + (len(points) * [np.nan])\ngdf.plot(facecolor=\"none\")"
      ]
    },
    {
      "cell_type": "markdown",
      "metadata": {},
      "source": [
        "We can now see the points forced in the triangulation, by plotting the\ncontents of the geodataframe on top of the generated mesh:\n\n"
      ]
    },
    {
      "cell_type": "code",
      "execution_count": null,
      "metadata": {
        "collapsed": false
      },
      "outputs": [],
      "source": [
        "mesher = pm.TriangleMesher(gdf)\nvertices, triangles = mesher.generate()\n\nfig, ax = plt.subplots()\npm.plot(vertices, triangles, ax=ax)\ngdf.plot(facecolor=\"none\", edgecolor=\"red\", ax=ax)"
      ]
    },
    {
      "cell_type": "markdown",
      "metadata": {},
      "source": [
        "## Force linestrings into the triangulation\n\nWe may do the same with linestrings. Here, we will add a vertical line at\nx = 9.0.\n\n"
      ]
    },
    {
      "cell_type": "code",
      "execution_count": null,
      "metadata": {
        "collapsed": false
      },
      "outputs": [],
      "source": [
        "line = sg.LineString(\n    [\n        [9.0, 2.0],\n        [9.0, 8.0],\n    ]\n)\ngdf = gpd.GeoDataFrame(geometry=[donut, refined, line, *points])\ngdf[\"cellsize\"] = [2.0, 0.5, np.nan] + (len(points) * [np.nan])\n\nmesher = pm.TriangleMesher(gdf)\nvertices, triangles = mesher.generate()\n\nfig, ax = plt.subplots()\npm.plot(vertices, triangles, ax=ax)\ngdf.plot(facecolor=\"none\", edgecolor=\"red\", ax=ax)"
      ]
    },
    {
      "cell_type": "markdown",
      "metadata": {},
      "source": [
        "## Conclusion\n\nIn real use, the vector geometries will be more complex, and not based on\njust a few coordinate pairs. Such cases are presented in the other examples,\nbut the same principles apply: we may use polygons with associated cell\nsizes, and linestrings and points to steer the triangulation.\n\n"
      ]
    }
  ],
  "metadata": {
    "kernelspec": {
      "display_name": "Python 3",
      "language": "python",
      "name": "python3"
    },
    "language_info": {
      "codemirror_mode": {
        "name": "ipython",
        "version": 3
      },
      "file_extension": ".py",
      "mimetype": "text/x-python",
      "name": "python",
      "nbconvert_exporter": "python",
      "pygments_lexer": "ipython3",
      "version": "3.12.5"
    }
  },
  "nbformat": 4,
  "nbformat_minor": 0
}